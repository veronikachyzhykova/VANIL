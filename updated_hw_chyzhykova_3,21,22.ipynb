{
  "nbformat": 4,
  "nbformat_minor": 0,
  "metadata": {
    "colab": {
      "provenance": []
    },
    "kernelspec": {
      "name": "python3",
      "display_name": "Python 3"
    },
    "language_info": {
      "name": "python"
    }
  },
  "cells": [
    {
      "cell_type": "markdown",
      "source": [
        "# Veronika Chyzhykova, updated h/w, VANIL"
      ],
      "metadata": {
        "id": "c_1aDCPcSw2A"
      }
    },
    {
      "cell_type": "markdown",
      "source": [
        "# Q 3\n",
        "\n",
        "---\n",
        "\n",
        "\n",
        "Write a function that asks the user to enter a list of integers. Do the following:\n",
        "\n",
        "- Print the last item in the list.\n",
        "- Print the list in reverse order.\n",
        "- Print Yes if the list contains a 5 and No otherwise.\n",
        "- Print the number of fives in the list.\n",
        "- Remove the first and last items from the list, sort the remaining items, and print the result.\n",
        "- Print how many integers in the list are less than 5.\n"
      ],
      "metadata": {
        "id": "-ldHlQNCCWiT"
      }
    },
    {
      "cell_type": "code",
      "source": [
        "l = int(input('Enter a list size: '))\n",
        "new_l = []\n",
        "\n",
        "#l = x.split()\n",
        "print(l)\n",
        "for n in range(0,l):\n",
        "  print(f'number at indx{n}')\n",
        "  number = int(input())\n",
        "  new_l.append(number)\n",
        "print(new_l)\n",
        "\n",
        "less = 0\n",
        "for el in new_l:\n",
        "  if el < 5:\n",
        "    less += 1\n",
        "print('how many integers in the list are less than 5?\\n',less)\n",
        "\n",
        "print(f'the last item: {new_l[-1]}')\n",
        "\n",
        "print(f'the list in reverse order: {new_l[::-1]}')\n",
        "\n",
        "print('If the list contains a 5?')\n",
        "if 5 in new_l:\n",
        "  print('Yes')\n",
        "else:\n",
        "  print('No')\n",
        "\n",
        "fives = 0\n",
        "for element in new_l:\n",
        "  if element == 5:\n",
        "    fives +=1\n",
        "print(f'the number of fives in the list: {fives}')\n",
        "\n",
        "new_l.pop(-1)\n",
        "#print(new_l)\n",
        "new_l.pop(0)\n",
        "new_l.sort()\n",
        "print('list without the first and the last el, sorted',new_l)\n",
        "\n"
      ],
      "metadata": {
        "colab": {
          "base_uri": "https://localhost:8080/"
        },
        "id": "1P2J5lXhCfXZ",
        "outputId": "bf3911b7-d44d-4e63-c783-9a78f6c67786"
      },
      "execution_count": 25,
      "outputs": [
        {
          "output_type": "stream",
          "name": "stdout",
          "text": [
            "Enter a list size: 5\n",
            "5\n",
            "number at indx0\n",
            "5\n",
            "number at indx1\n",
            "6\n",
            "number at indx2\n",
            "4\n",
            "number at indx3\n",
            "0\n",
            "number at indx4\n",
            "8\n",
            "[5, 6, 4, 0, 8]\n",
            "how many integers in the list are less than 5?\n",
            " 2\n",
            "the last item: 8\n",
            "the list in reverse order: [8, 0, 4, 6, 5]\n",
            "If the list contains a 5?\n",
            "Yes\n",
            "the number of fives in the list: 1\n",
            "list without the first and the last el, sorted [0, 4, 6]\n"
          ]
        }
      ]
    },
    {
      "cell_type": "markdown",
      "source": [
        "# Q 21\n",
        "\n",
        "---\n",
        "\n",
        "Calculate number of distinct characters in a string using a for loop.\n",
        "\n",
        "\n"
      ],
      "metadata": {
        "id": "zj2Urc0IL67W"
      }
    },
    {
      "cell_type": "code",
      "source": [
        "s = 'Hello, world!'\n",
        "\n",
        "diff = []\n",
        "for ch in s:\n",
        "  if ch not in diff and ch != ' ':\n",
        "    diff.append(ch)\n",
        "print(diff)\n",
        "print(f'number of distinct ch in str: {len(diff)}')"
      ],
      "metadata": {
        "colab": {
          "base_uri": "https://localhost:8080/"
        },
        "id": "2NJnj6FPMJBe",
        "outputId": "1070618d-9cb1-447d-c005-890f1bc6fe51"
      },
      "execution_count": 29,
      "outputs": [
        {
          "output_type": "stream",
          "name": "stdout",
          "text": [
            "['H', 'e', 'l', 'o', ',', 'w', 'r', 'd', '!']\n",
            "number of distinct ch in str: 9\n"
          ]
        }
      ]
    },
    {
      "cell_type": "markdown",
      "source": [
        "# Q 22\n",
        "\n",
        "\n",
        "---\n",
        "\n",
        "Write a function called is_sorted that is given a list and returns True if the list is sorted and False otherwise.\n"
      ],
      "metadata": {
        "id": "EtTUCeYNNX9q"
      }
    },
    {
      "cell_type": "code",
      "source": [
        "def is_sorted(l):\n",
        "  #print('list1 : ',l)\n",
        "  k = []\n",
        "  for el in l:\n",
        "    k.append(el)\n",
        "  s = l\n",
        "  s.sort()\n",
        "  if k == s:\n",
        "    print('list: ', k)\n",
        "    print('sorted list: ',s)\n",
        "    return True\n",
        "  else:\n",
        "    print('list: ', k)\n",
        "    print('sorted list: ',s)\n",
        "    return False\n",
        "\n",
        "l = [1, 5, 6, 0]\n",
        "is_sorted(l)"
      ],
      "metadata": {
        "colab": {
          "base_uri": "https://localhost:8080/"
        },
        "id": "XiZCq2HcNeyO",
        "outputId": "01848a20-383b-4b4c-efec-ee2704be67e0"
      },
      "execution_count": 54,
      "outputs": [
        {
          "output_type": "stream",
          "name": "stdout",
          "text": [
            "list:  [1, 5, 6, 0]\n",
            "sorted list:  [0, 1, 5, 6]\n"
          ]
        },
        {
          "output_type": "execute_result",
          "data": {
            "text/plain": [
              "False"
            ]
          },
          "metadata": {},
          "execution_count": 54
        }
      ]
    }
  ]
}