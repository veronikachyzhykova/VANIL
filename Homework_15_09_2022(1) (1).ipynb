{
  "cells": [
    {
      "cell_type": "markdown",
      "id": "6cc93a91",
      "metadata": {
        "id": "6cc93a91"
      },
      "source": [
        "# Set up\n",
        "Install Anaconda Python (version 3.7 or later)"
      ]
    },
    {
      "cell_type": "code",
      "execution_count": null,
      "id": "bc7c0a7c",
      "metadata": {
        "id": "bc7c0a7c",
        "outputId": "acb0b273-16e0-4601-c2fb-1db3e0e6ac81"
      },
      "outputs": [
        {
          "name": "stdout",
          "output_type": "stream",
          "text": [
            "sys.version_info(major=3, minor=9, micro=7, releaselevel='final', serial=0)\n",
            "version 3.9.7\n"
          ]
        }
      ],
      "source": [
        "# Installation - anaconda python:\n",
        "#     - https://www.anaconda.com/products/individual\n",
        "# After installation you can always add modules.\n",
        "# Modules can be added from different channels.\n",
        "#   conda info\n",
        "#   conda config --add channels anaconda\n",
        "#   conda config --add channels conda-forge\n",
        "# You can do periodic updates using these commands:\n",
        "#   conda update conda\n",
        "#   conda update anaconda\n",
        "# -------------------------------------------------------\n",
        "import sys\n",
        "vv = sys.version_info\n",
        "print(vv)\n",
        "print('version ' + '.'.join([str(x) for x in vv[0:3]]))"
      ]
    },
    {
      "cell_type": "markdown",
      "id": "06c27760",
      "metadata": {
        "id": "06c27760"
      },
      "source": [
        "##  Question 1"
      ]
    },
    {
      "cell_type": "code",
      "source": [],
      "metadata": {
        "id": "UdZc_x9zQibe"
      },
      "id": "UdZc_x9zQibe",
      "execution_count": null,
      "outputs": []
    },
    {
      "cell_type": "markdown",
      "id": "82c39cd7",
      "metadata": {
        "id": "82c39cd7"
      },
      "source": [
        "Write a print statement to print the mixed fraction 3 5/8 as a floating point number and as an integer."
      ]
    },
    {
      "cell_type": "code",
      "source": [
        "def floating_point_number_and_integer(whole, fractional):\n",
        "  floating_point_number = whole + fractional\n",
        "  integer = round(floating_point_number)\n",
        "  print('floating point number', floating_point_number)\n",
        "  print('integer', integer)"
      ],
      "metadata": {
        "id": "_ysBTkuuQvsO"
      },
      "id": "_ysBTkuuQvsO",
      "execution_count": 1,
      "outputs": []
    },
    {
      "cell_type": "code",
      "source": [
        "floating_point_number_and_integer(3, 5/8)"
      ],
      "metadata": {
        "colab": {
          "base_uri": "https://localhost:8080/"
        },
        "id": "mKKnOprYSExV",
        "outputId": "ef2b6d3d-ad87-48e9-f79a-478367b93096"
      },
      "id": "mKKnOprYSExV",
      "execution_count": 2,
      "outputs": [
        {
          "output_type": "stream",
          "name": "stdout",
          "text": [
            "floating point number 3.625\n",
            "integer 4\n"
          ]
        }
      ]
    },
    {
      "cell_type": "markdown",
      "id": "3d1206e0",
      "metadata": {
        "id": "3d1206e0"
      },
      "source": [
        "### Answer"
      ]
    },
    {
      "cell_type": "markdown",
      "id": "f22dd569",
      "metadata": {
        "id": "f22dd569"
      },
      "source": [
        "##  Question 2"
      ]
    },
    {
      "cell_type": "markdown",
      "id": "dca44c62",
      "metadata": {
        "id": "dca44c62"
      },
      "source": [
        "**Convert Between °C and °F.** Convert temperatures from one system to another.\n",
        "- Create a print statement to convert 18.5° C to °F. \n",
        "- Create a print statement to convert -4° F to °C."
      ]
    },
    {
      "cell_type": "markdown",
      "id": "00b6f59b",
      "metadata": {
        "id": "00b6f59b"
      },
      "source": [
        "### Answer"
      ]
    },
    {
      "cell_type": "markdown",
      "id": "72f7c2f1",
      "metadata": {
        "id": "72f7c2f1"
      },
      "source": [
        "##  Question 3"
      ]
    },
    {
      "cell_type": "markdown",
      "id": "d67df8fe",
      "metadata": {
        "id": "d67df8fe"
      },
      "source": [
        "Write a print statement to print the mixed fraction 3 5/8 as a floating point number and as an integer."
      ]
    },
    {
      "cell_type": "markdown",
      "id": "abd82ff9",
      "metadata": {
        "id": "abd82ff9"
      },
      "source": [
        "### Answer"
      ]
    },
    {
      "cell_type": "markdown",
      "id": "7f978472",
      "metadata": {
        "id": "7f978472"
      },
      "source": [
        "##  Question 4"
      ]
    },
    {
      "cell_type": "markdown",
      "id": "5c774691",
      "metadata": {
        "id": "5c774691"
      },
      "source": [
        "Write a Python program which accepts the radius of a circle from the user and compute the area."
      ]
    },
    {
      "cell_type": "markdown",
      "id": "d6d0a52d",
      "metadata": {
        "id": "d6d0a52d"
      },
      "source": [
        "### Answer"
      ]
    },
    {
      "cell_type": "markdown",
      "id": "7deb40b9",
      "metadata": {
        "id": "7deb40b9"
      },
      "source": [
        "##  Question 5"
      ]
    },
    {
      "cell_type": "markdown",
      "id": "36e23563",
      "metadata": {
        "id": "36e23563"
      },
      "source": [
        "Write a Python program which accepts the user's first and last name and print them in reverse order with a space between them."
      ]
    },
    {
      "cell_type": "markdown",
      "id": "c1b63a5d",
      "metadata": {
        "id": "c1b63a5d"
      },
      "source": [
        "### Answer"
      ]
    },
    {
      "cell_type": "markdown",
      "id": "dae428e7",
      "metadata": {
        "id": "dae428e7"
      },
      "source": [
        "##  Question 6"
      ]
    },
    {
      "cell_type": "markdown",
      "id": "08201c2e",
      "metadata": {
        "id": "08201c2e"
      },
      "source": [
        "Write a Python program that accepts an integer (n) and computes the value of n+nn+nnn"
      ]
    },
    {
      "cell_type": "markdown",
      "id": "ed4f8b37",
      "metadata": {
        "id": "ed4f8b37"
      },
      "source": [
        "### Answer"
      ]
    },
    {
      "cell_type": "markdown",
      "id": "bec8d306",
      "metadata": {
        "id": "bec8d306"
      },
      "source": [
        "##  Question 7"
      ]
    },
    {
      "cell_type": "markdown",
      "id": "0b82ae59",
      "metadata": {
        "id": "0b82ae59"
      },
      "source": [
        "A lot of cell phones have tip calculators. Write one. Ask the user for the price of the meal and the percent tip they want to leave. Then print both the tip amount and the total bill with the tip included."
      ]
    },
    {
      "cell_type": "code",
      "source": [
        "def tip_calculator():\n",
        "  total = int(input('Enter the total amount of the check: '))\n",
        "  tip_percentage = int(input('Enter the tip percentage: '))\n",
        "  tip_amount = total * tip_percentage / 100\n",
        "  tip_amount = round(tip_amount, 2)\n",
        "  total_with_tip = tip_amount + total\n",
        "  print('tip amount', tip_amount)\n",
        "  print('total with tip', total_with_tip)"
      ],
      "metadata": {
        "id": "hLDZ3GQgSbW8"
      },
      "id": "hLDZ3GQgSbW8",
      "execution_count": 4,
      "outputs": []
    },
    {
      "cell_type": "code",
      "source": [
        "tip_calculator()"
      ],
      "metadata": {
        "colab": {
          "base_uri": "https://localhost:8080/"
        },
        "id": "lZ0PHFExUlO3",
        "outputId": "63bc2948-0808-4748-fea0-486cf1965e3f"
      },
      "id": "lZ0PHFExUlO3",
      "execution_count": 5,
      "outputs": [
        {
          "output_type": "stream",
          "name": "stdout",
          "text": [
            "Enter the total amount of the check: 120\n",
            "Enter the tip percentage: 20\n",
            "tip amount 24.0\n",
            "total with tip 144.0\n"
          ]
        }
      ]
    },
    {
      "cell_type": "markdown",
      "id": "855e9ada",
      "metadata": {
        "id": "855e9ada"
      },
      "source": [
        "### Answer"
      ]
    },
    {
      "cell_type": "markdown",
      "id": "782315b7",
      "metadata": {
        "id": "782315b7"
      },
      "source": [
        "##  Question 8"
      ]
    },
    {
      "cell_type": "markdown",
      "id": "be5a74b1",
      "metadata": {
        "id": "be5a74b1"
      },
      "source": [
        "Write a program that asks the user to enter three numbers: the day of birth, the month of birth and the year of birth (use three separate input statements). Print out the total number of days from birth."
      ]
    },
    {
      "cell_type": "markdown",
      "id": "ffc357e6",
      "metadata": {
        "id": "ffc357e6"
      },
      "source": [
        "### Answer"
      ]
    },
    {
      "cell_type": "markdown",
      "id": "046e6b5d",
      "metadata": {
        "id": "046e6b5d"
      },
      "source": [
        "##  Question 9"
      ]
    },
    {
      "cell_type": "markdown",
      "id": "2be8413c",
      "metadata": {
        "id": "2be8413c"
      },
      "source": [
        "Write a program that asks the user to enter an angle between -180° and 180°. Using an expression with the modulo operator, convert the angle to its equivalent between 0° and 360°."
      ]
    },
    {
      "cell_type": "markdown",
      "id": "070683b5",
      "metadata": {
        "id": "070683b5"
      },
      "source": [
        "### Answer"
      ]
    },
    {
      "cell_type": "markdown",
      "id": "c9c8af36",
      "metadata": {
        "id": "c9c8af36"
      },
      "source": [
        "##  Question 10"
      ]
    },
    {
      "cell_type": "markdown",
      "id": "b3189cf2",
      "metadata": {
        "id": "b3189cf2"
      },
      "source": [
        "Write a program that generates a random decimal number between 1 and 10 with two decimal places of accuracy."
      ]
    },
    {
      "cell_type": "markdown",
      "id": "0bf49552",
      "metadata": {
        "id": "0bf49552"
      },
      "source": [
        "### Answer"
      ]
    },
    {
      "cell_type": "markdown",
      "id": "fc7f5268",
      "metadata": {
        "id": "fc7f5268"
      },
      "source": [
        "##  Question 11"
      ]
    },
    {
      "cell_type": "markdown",
      "id": "f7d5e811",
      "metadata": {
        "id": "f7d5e811"
      },
      "source": [
        "Write a program that asks the user to enter a power. Then find the last two digits of 2 raised to that power."
      ]
    },
    {
      "cell_type": "markdown",
      "id": "6f9266d8",
      "metadata": {
        "id": "6f9266d8"
      },
      "source": [
        "### Answer"
      ]
    },
    {
      "cell_type": "markdown",
      "id": "0e8bf2ed",
      "metadata": {
        "id": "0e8bf2ed"
      },
      "source": [
        "##  Question 12"
      ]
    },
    {
      "cell_type": "markdown",
      "id": "a648dc6a",
      "metadata": {
        "id": "a648dc6a"
      },
      "source": [
        "Write a program that asks the user how many credits they have taken. If they have taken 23 or less, print that the student is a freshman. If they have taken between 24 and 53, print that they are a sophomore. The range for juniors is 54 to 83, and for seniors it is 84 and over."
      ]
    },
    {
      "cell_type": "code",
      "source": [
        "def how_many_credits(credits):\n",
        "  if credits <= 23:\n",
        "    print ('you are a freshman')\n",
        "  elif credits <= 53:\n",
        "    print('you are a sophomore')\n",
        "  elif credits <= 83:\n",
        "    print('you are a junior')\n",
        "  else:\n",
        "    print('you are a over')"
      ],
      "metadata": {
        "id": "lw3RyBoHbyLC"
      },
      "id": "lw3RyBoHbyLC",
      "execution_count": 6,
      "outputs": []
    },
    {
      "cell_type": "code",
      "source": [
        "how_many_credits(83)"
      ],
      "metadata": {
        "colab": {
          "base_uri": "https://localhost:8080/"
        },
        "id": "oZaN4_1QdH1h",
        "outputId": "d04d930d-84fa-4922-9c88-553988f64d03"
      },
      "id": "oZaN4_1QdH1h",
      "execution_count": 11,
      "outputs": [
        {
          "output_type": "stream",
          "name": "stdout",
          "text": [
            "you are a junior\n"
          ]
        }
      ]
    },
    {
      "cell_type": "markdown",
      "id": "d9428a56",
      "metadata": {
        "id": "d9428a56"
      },
      "source": [
        "### Answer"
      ]
    },
    {
      "cell_type": "markdown",
      "id": "d055fd4b",
      "metadata": {
        "id": "d055fd4b"
      },
      "source": [
        "##  Question 13"
      ]
    },
    {
      "cell_type": "markdown",
      "id": "c79ae3aa",
      "metadata": {
        "id": "c79ae3aa"
      },
      "source": [
        "Write a program that asks the user to enter a length in centimeters. If the user enters a negative length, the program should tell the user that the entry is invalid. Otherwise, the program should convert the length to inches and print out the result. There are 2.54 centimeters in an inch."
      ]
    },
    {
      "cell_type": "markdown",
      "id": "fb5168e7",
      "metadata": {
        "id": "fb5168e7"
      },
      "source": [
        "### Answer"
      ]
    },
    {
      "cell_type": "markdown",
      "id": "1469555d",
      "metadata": {
        "id": "1469555d"
      },
      "source": [
        "##  Question 14"
      ]
    },
    {
      "cell_type": "markdown",
      "id": "73a97ead",
      "metadata": {
        "id": "73a97ead"
      },
      "source": [
        "Write a program that lets the user play Rock-Paper-Scissors against the computer. There should be three rounds, and after those three rounds, your program should print out who won and lost or that there is a tie."
      ]
    },
    {
      "cell_type": "markdown",
      "id": "96b5d4f0",
      "metadata": {
        "id": "96b5d4f0"
      },
      "source": [
        "### Answer"
      ]
    },
    {
      "cell_type": "markdown",
      "id": "81480a72",
      "metadata": {
        "id": "81480a72"
      },
      "source": [
        "##  Question 15"
      ]
    },
    {
      "cell_type": "markdown",
      "id": "9868bbf3",
      "metadata": {
        "id": "9868bbf3"
      },
      "source": [
        "A store charges $\\$$12 per item if you buy less than 10 items. If you buy between 10 and 99 items, the cost is $\\$$10 per item. If you buy 100 or more items, the cost is $7 per item. Write a program that asks the user how many items they are buying and prints the total cost."
      ]
    },
    {
      "cell_type": "markdown",
      "id": "2bc40308",
      "metadata": {
        "id": "2bc40308"
      },
      "source": [
        "### Answer"
      ]
    },
    {
      "cell_type": "markdown",
      "id": "bf4186d1",
      "metadata": {
        "id": "bf4186d1"
      },
      "source": [
        "##  Question 16"
      ]
    },
    {
      "cell_type": "markdown",
      "id": "d1389cb0",
      "metadata": {
        "id": "d1389cb0"
      },
      "source": [
        "Write a program that removes any repeated items from a list so that each item appears at most once. For instance, the list $[1,1,2,3,4,3,0,0]$ would become $[1,2,3,4,0]$."
      ]
    },
    {
      "cell_type": "markdown",
      "id": "765928be",
      "metadata": {
        "id": "765928be"
      },
      "source": [
        "### Answer"
      ]
    },
    {
      "cell_type": "markdown",
      "id": "e062f922",
      "metadata": {
        "id": "e062f922"
      },
      "source": [
        "##  Question 17"
      ]
    },
    {
      "cell_type": "markdown",
      "id": "b6305c6e",
      "metadata": {
        "id": "b6305c6e"
      },
      "source": [
        "Calculate number of business days between two dates using datetime module."
      ]
    },
    {
      "cell_type": "markdown",
      "id": "033bd743",
      "metadata": {
        "id": "033bd743"
      },
      "source": [
        "### Answer"
      ]
    },
    {
      "cell_type": "markdown",
      "id": "4408a3a9",
      "metadata": {
        "id": "4408a3a9"
      },
      "source": [
        "## Question 18"
      ]
    },
    {
      "cell_type": "markdown",
      "id": "bb4ef2dd",
      "metadata": {
        "id": "bb4ef2dd"
      },
      "source": [
        "Write a function that reverse the tuple."
      ]
    },
    {
      "cell_type": "markdown",
      "id": "8fdb9709",
      "metadata": {
        "id": "8fdb9709"
      },
      "source": [
        "## Answer"
      ]
    },
    {
      "cell_type": "markdown",
      "id": "fcc4f206",
      "metadata": {
        "id": "fcc4f206"
      },
      "source": [
        "## Question 19"
      ]
    },
    {
      "cell_type": "markdown",
      "id": "84e09c29",
      "metadata": {
        "id": "84e09c29"
      },
      "source": [
        "Sort a tuple of tuples by 2nd item. For example, the output for the tuple $(('a', 23),('b', 37),('c', 11), ('d',29))$ should be $(('c', 11), ('a', 23), ('d', 29), ('b', 37))$"
      ]
    },
    {
      "cell_type": "markdown",
      "id": "27ca631f",
      "metadata": {
        "id": "27ca631f"
      },
      "source": [
        "## Answer"
      ]
    },
    {
      "cell_type": "markdown",
      "id": "b683db4e",
      "metadata": {
        "id": "b683db4e"
      },
      "source": [
        "## Question 20"
      ]
    },
    {
      "cell_type": "markdown",
      "id": "acbd5882",
      "metadata": {
        "id": "acbd5882"
      },
      "source": [
        "Write a function that removes empty strings from the list of strings."
      ]
    },
    {
      "cell_type": "code",
      "source": [
        "def removing_empty_lines(list1):\n",
        "  num = 0\n",
        "  for i in list1:\n",
        "    if i == '':\n",
        "      list1.pop(num)\n",
        "    num += 1\n",
        "  return list1"
      ],
      "metadata": {
        "id": "tcRpEX_Pdmbn"
      },
      "id": "tcRpEX_Pdmbn",
      "execution_count": 21,
      "outputs": []
    },
    {
      "cell_type": "code",
      "source": [
        "a = ['', 'edfgeg', '', 'dsf', 'efvwg']\n",
        "print(removing_empty_lines(a))"
      ],
      "metadata": {
        "colab": {
          "base_uri": "https://localhost:8080/"
        },
        "id": "1qQmm92HeQyH",
        "outputId": "9ecf0ece-b324-4053-9ce2-51e5ce3ebaff"
      },
      "id": "1qQmm92HeQyH",
      "execution_count": 22,
      "outputs": [
        {
          "output_type": "stream",
          "name": "stdout",
          "text": [
            "['edfgeg', 'dsf', 'efvwg']\n"
          ]
        }
      ]
    },
    {
      "cell_type": "markdown",
      "id": "581524a9",
      "metadata": {
        "id": "581524a9"
      },
      "source": [
        "## Answer"
      ]
    },
    {
      "cell_type": "markdown",
      "id": "31c89874",
      "metadata": {
        "id": "31c89874"
      },
      "source": [
        "## Question 21"
      ]
    },
    {
      "cell_type": "markdown",
      "id": "7c677830",
      "metadata": {
        "id": "7c677830"
      },
      "source": [
        "Write a program that asks the user to enter a power. Then find the last two digits of 2 raised to that power."
      ]
    },
    {
      "cell_type": "markdown",
      "id": "493ca515",
      "metadata": {
        "id": "493ca515"
      },
      "source": [
        "## Answer"
      ]
    },
    {
      "cell_type": "markdown",
      "id": "1f79da24",
      "metadata": {
        "id": "1f79da24"
      },
      "source": [
        "## Question 22"
      ]
    },
    {
      "cell_type": "code",
      "execution_count": null,
      "id": "c75bfe8c",
      "metadata": {
        "id": "c75bfe8c"
      },
      "outputs": [],
      "source": []
    }
  ],
  "metadata": {
    "kernelspec": {
      "display_name": "Python 3 (ipykernel)",
      "language": "python",
      "name": "python3"
    },
    "language_info": {
      "codemirror_mode": {
        "name": "ipython",
        "version": 3
      },
      "file_extension": ".py",
      "mimetype": "text/x-python",
      "name": "python",
      "nbconvert_exporter": "python",
      "pygments_lexer": "ipython3",
      "version": "3.9.7"
    },
    "colab": {
      "provenance": [],
      "collapsed_sections": [
        "c1b63a5d",
        "dae428e7",
        "ed4f8b37",
        "855e9ada",
        "782315b7",
        "ffc357e6",
        "046e6b5d",
        "070683b5",
        "c9c8af36",
        "0bf49552",
        "fc7f5268",
        "6f9266d8",
        "d9428a56",
        "d055fd4b",
        "fb5168e7",
        "1469555d",
        "96b5d4f0",
        "81480a72",
        "2bc40308",
        "bf4186d1",
        "765928be",
        "e062f922",
        "033bd743",
        "4408a3a9",
        "8fdb9709",
        "fcc4f206",
        "27ca631f",
        "581524a9",
        "31c89874",
        "493ca515",
        "1f79da24"
      ]
    }
  },
  "nbformat": 4,
  "nbformat_minor": 5
}