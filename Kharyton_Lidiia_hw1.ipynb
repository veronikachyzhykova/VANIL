{
  "cells": [
    {
      "cell_type": "markdown",
      "id": "6cc93a91",
      "metadata": {
        "id": "6cc93a91"
      },
      "source": [
        "# Set up\n",
        "Install Anaconda Python (version 3.7 or later)"
      ]
    },
    {
      "cell_type": "code",
      "execution_count": 1,
      "id": "bc7c0a7c",
      "metadata": {
        "id": "bc7c0a7c",
        "outputId": "32796bbe-c277-4cb6-a085-21a6cc09ccdc",
        "colab": {
          "base_uri": "https://localhost:8080/"
        }
      },
      "outputs": [
        {
          "output_type": "stream",
          "name": "stdout",
          "text": [
            "sys.version_info(major=3, minor=7, micro=14, releaselevel='final', serial=0)\n",
            "version 3.7.14\n"
          ]
        }
      ],
      "source": [
        "# Installation - anaconda python:\n",
        "#     - https://www.anaconda.com/products/individual\n",
        "# After installation you can always add modules.\n",
        "# Modules can be added from different channels.\n",
        "#   conda info\n",
        "#   conda config --add channels anaconda\n",
        "#   conda config --add channels conda-forge\n",
        "# You can do periodic updates using these commands:\n",
        "#   conda update conda\n",
        "#   conda update anaconda\n",
        "# -------------------------------------------------------\n",
        "import sys\n",
        "vv = sys.version_info\n",
        "print(vv)\n",
        "print('version ' + '.'.join([str(x) for x in vv[0:3]]))"
      ]
    },
    {
      "cell_type": "markdown",
      "id": "7f978472",
      "metadata": {
        "id": "7f978472"
      },
      "source": [
        "##  Question 4"
      ]
    },
    {
      "cell_type": "markdown",
      "id": "5c774691",
      "metadata": {
        "id": "5c774691"
      },
      "source": [
        "Write a Python program which accepts the radius of a circle from the user and compute the area."
      ]
    },
    {
      "cell_type": "code",
      "source": [
        "r = float(input(\"Enter the radius of a circle: \"))\n",
        "\n",
        "area = 3.14 * r**2\n",
        "\n",
        "print(\"Area = \", area)"
      ],
      "metadata": {
        "colab": {
          "base_uri": "https://localhost:8080/"
        },
        "id": "xTSDrf204px7",
        "outputId": "d69f373a-39bc-4632-9db4-677a61777061"
      },
      "id": "xTSDrf204px7",
      "execution_count": 14,
      "outputs": [
        {
          "output_type": "stream",
          "name": "stdout",
          "text": [
            "Enter the radius of a circle: 2\n",
            "Area =  12.56\n"
          ]
        }
      ]
    },
    {
      "cell_type": "markdown",
      "id": "fc7f5268",
      "metadata": {
        "id": "fc7f5268"
      },
      "source": [
        "##  Question 11"
      ]
    },
    {
      "cell_type": "markdown",
      "id": "f7d5e811",
      "metadata": {
        "id": "f7d5e811"
      },
      "source": [
        "Write a program that asks the user to enter a power. Then find the last two digits of 2 raised to that power."
      ]
    },
    {
      "cell_type": "code",
      "source": [
        "power = int(input(\"Enter power: \")) \n",
        "\n",
        "digits = 2**power \n",
        "\n",
        "print(\"The last two digits of 2 raised to that power:\", digits % 100)"
      ],
      "metadata": {
        "colab": {
          "base_uri": "https://localhost:8080/"
        },
        "id": "SPlEmvz09-Cm",
        "outputId": "64a33648-b17e-403f-b3f9-b7f198fd9937"
      },
      "id": "SPlEmvz09-Cm",
      "execution_count": 13,
      "outputs": [
        {
          "output_type": "stream",
          "name": "stdout",
          "text": [
            "Enter power: 15\n",
            "The last two digits of 2 raised to that power: 68\n"
          ]
        }
      ]
    },
    {
      "cell_type": "markdown",
      "id": "bf4186d1",
      "metadata": {
        "id": "bf4186d1"
      },
      "source": [
        "##  Question 16"
      ]
    },
    {
      "cell_type": "markdown",
      "id": "d1389cb0",
      "metadata": {
        "id": "d1389cb0"
      },
      "source": [
        "Write a program that removes any repeated items from a list so that each item appears at most once. For instance, the list $[1,1,2,3,4,3,0,0]$ would become $[1,2,3,4,0]$."
      ]
    },
    {
      "cell_type": "code",
      "source": [
        "a = [1, 1, 2, 3, 4, 3, 0, 0]\n",
        "b = []\n",
        "\n",
        "for i in a:\n",
        "  if i not in b: b.append(i)\n",
        "  \n",
        "print(b)"
      ],
      "metadata": {
        "colab": {
          "base_uri": "https://localhost:8080/"
        },
        "id": "jRaR-O1I-ISk",
        "outputId": "a81b3bf3-9b21-48de-df5c-2011008001e6"
      },
      "id": "jRaR-O1I-ISk",
      "execution_count": 11,
      "outputs": [
        {
          "output_type": "stream",
          "name": "stdout",
          "text": [
            "[1, 2, 3, 4, 0]\n"
          ]
        }
      ]
    },
    {
      "cell_type": "markdown",
      "id": "e062f922",
      "metadata": {
        "id": "e062f922"
      },
      "source": [
        "##  Question 17"
      ]
    },
    {
      "cell_type": "markdown",
      "id": "b6305c6e",
      "metadata": {
        "id": "b6305c6e"
      },
      "source": [
        "Calculate number of business days between two dates using datetime module."
      ]
    },
    {
      "cell_type": "code",
      "source": [
        "import datetime\n",
        "import numpy as np\n",
        "\n",
        "first_data = datetime.date(2022, 9, 18)\n",
        "second_data = datetime.date(2022, 12, 3)\n",
        "\n",
        "bussiness_days = np.busday_count(first_data, second_data)\n",
        "print('Number of business days is:', bussiness_days)"
      ],
      "metadata": {
        "colab": {
          "base_uri": "https://localhost:8080/"
        },
        "id": "xEs6m9-M-cPI",
        "outputId": "29208e76-3709-4323-fc55-0c394c50347d"
      },
      "id": "xEs6m9-M-cPI",
      "execution_count": 10,
      "outputs": [
        {
          "output_type": "stream",
          "name": "stdout",
          "text": [
            "Number of business days is: 55\n"
          ]
        }
      ]
    }
  ],
  "metadata": {
    "kernelspec": {
      "display_name": "Python 3 (ipykernel)",
      "language": "python",
      "name": "python3"
    },
    "language_info": {
      "codemirror_mode": {
        "name": "ipython",
        "version": 3
      },
      "file_extension": ".py",
      "mimetype": "text/x-python",
      "name": "python",
      "nbconvert_exporter": "python",
      "pygments_lexer": "ipython3",
      "version": "3.9.7"
    },
    "colab": {
      "provenance": [],
      "collapsed_sections": [
        "c1b63a5d",
        "ed4f8b37",
        "bec8d306",
        "855e9ada",
        "782315b7",
        "ffc357e6",
        "046e6b5d",
        "070683b5",
        "c9c8af36",
        "0bf49552",
        "6f9266d8",
        "0e8bf2ed",
        "d9428a56",
        "d055fd4b",
        "fb5168e7",
        "96b5d4f0",
        "2bc40308",
        "765928be",
        "033bd743",
        "4408a3a9",
        "8fdb9709",
        "fcc4f206",
        "27ca631f",
        "b683db4e",
        "581524a9",
        "493ca515",
        "1f79da24"
      ]
    }
  },
  "nbformat": 4,
  "nbformat_minor": 5
}