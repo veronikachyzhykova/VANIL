{
  "cells": [
    {
      "cell_type": "markdown",
      "id": "6cc93a91",
      "metadata": {
        "id": "6cc93a91"
      },
      "source": [
        "# Veronika Chemerys MTS-22"
      ]
    },
    {
      "cell_type": "markdown",
      "id": "7deb40b9",
      "metadata": {
        "id": "7deb40b9"
      },
      "source": [
        "##  Question 5"
      ]
    },
    {
      "cell_type": "markdown",
      "id": "36e23563",
      "metadata": {
        "id": "36e23563"
      },
      "source": [
        "Write a Python program which accepts the user's first and last name and print them in reverse order with a space between them."
      ]
    },
    {
      "cell_type": "markdown",
      "id": "c1b63a5d",
      "metadata": {
        "id": "c1b63a5d"
      },
      "source": [
        "### Answer"
      ]
    },
    {
      "cell_type": "code",
      "source": [
        "def func(firstname, lastname):\n",
        "    return lastname + \" \" + firstname\n",
        "\n",
        "firstname = input(\"Input your first name : \")\n",
        "lastname = input(\"Input your last name : \")\n",
        "print(func(firstname, lastname))"
      ],
      "metadata": {
        "id": "ZtJPmzWH8UdL"
      },
      "id": "ZtJPmzWH8UdL",
      "execution_count": null,
      "outputs": []
    },
    {
      "cell_type": "markdown",
      "id": "782315b7",
      "metadata": {
        "id": "782315b7"
      },
      "source": [
        "##  Question 8"
      ]
    },
    {
      "cell_type": "markdown",
      "id": "be5a74b1",
      "metadata": {
        "id": "be5a74b1"
      },
      "source": [
        "Write a program that asks the user to enter three numbers: the day of birth, the month of birth and the year of birth (use three separate input statements). Print out the total number of days from birth."
      ]
    },
    {
      "cell_type": "markdown",
      "id": "ffc357e6",
      "metadata": {
        "id": "ffc357e6"
      },
      "source": [
        "### Answer"
      ]
    },
    {
      "cell_type": "code",
      "source": [
        "from datetime import date\n",
        "def days(birth_day, birth_month, birth_year):\n",
        "    now = date.today()\n",
        "    birthday = date(day = birth_day, month = birth_month, year = birth_year)\n",
        "    countdown = now - birthday\n",
        "    return countdown\n",
        "\n",
        "birth_day = int(input(\"Enter your birth day: \"))\n",
        "birth_month = int(input(\"Enter your birth month: \"))\n",
        "birth_year = int(input(\"Enter your birth year: \"))\n",
        "print(days(birth_day, birth_month, birth_year))"
      ],
      "metadata": {
        "id": "Oj6rTbSO8faB"
      },
      "id": "Oj6rTbSO8faB",
      "execution_count": null,
      "outputs": []
    },
    {
      "cell_type": "markdown",
      "id": "d055fd4b",
      "metadata": {
        "id": "d055fd4b"
      },
      "source": [
        "##  Question 13"
      ]
    },
    {
      "cell_type": "markdown",
      "id": "c79ae3aa",
      "metadata": {
        "id": "c79ae3aa"
      },
      "source": [
        "Write a program that asks the user to enter a length in centimeters. If the user enters a negative length, the program should tell the user that the entry is invalid. Otherwise, the program should convert the length to inches and print out the result. There are 2.54 centimeters in an inch."
      ]
    },
    {
      "cell_type": "markdown",
      "id": "fb5168e7",
      "metadata": {
        "id": "fb5168e7"
      },
      "source": [
        "### Answer"
      ]
    },
    {
      "cell_type": "code",
      "source": [
        "def func(length_cm):\n",
        "    if length_cm < 0:\n",
        "        return 'invalid entry'\n",
        "    else:\n",
        "        return str(round(length_cm/2.54, 2)) + ' inches'\n",
        "\n",
        "length_cm = float(input(\"Enter length in cm: \"))\n",
        "print(func(length_cm))"
      ],
      "metadata": {
        "id": "TqZ0gdbB8lwi"
      },
      "id": "TqZ0gdbB8lwi",
      "execution_count": null,
      "outputs": []
    },
    {
      "cell_type": "markdown",
      "id": "4408a3a9",
      "metadata": {
        "id": "4408a3a9"
      },
      "source": [
        "## Question 18"
      ]
    },
    {
      "cell_type": "markdown",
      "id": "bb4ef2dd",
      "metadata": {
        "id": "bb4ef2dd"
      },
      "source": [
        "Write a function that reverse the tuple."
      ]
    },
    {
      "cell_type": "markdown",
      "id": "8fdb9709",
      "metadata": {
        "id": "8fdb9709"
      },
      "source": [
        "## Answer"
      ]
    },
    {
      "cell_type": "code",
      "source": [
        "def Reverse(tuples):\n",
        "    new_tuples = tuples[::-1]\n",
        "    return new_tuples\n",
        "\n",
        "tuples = ('0','9','5','36','11','98','13','2')\n",
        "print(Reverse(tuples))"
      ],
      "metadata": {
        "id": "V7zmZqHX8rol"
      },
      "id": "V7zmZqHX8rol",
      "execution_count": null,
      "outputs": []
    }
  ],
  "metadata": {
    "kernelspec": {
      "display_name": "Python 3 (ipykernel)",
      "language": "python",
      "name": "python3"
    },
    "language_info": {
      "codemirror_mode": {
        "name": "ipython",
        "version": 3
      },
      "file_extension": ".py",
      "mimetype": "text/x-python",
      "name": "python",
      "nbconvert_exporter": "python",
      "pygments_lexer": "ipython3",
      "version": "3.9.7"
    },
    "colab": {
      "provenance": [],
      "collapsed_sections": []
    }
  },
  "nbformat": 4,
  "nbformat_minor": 5
}