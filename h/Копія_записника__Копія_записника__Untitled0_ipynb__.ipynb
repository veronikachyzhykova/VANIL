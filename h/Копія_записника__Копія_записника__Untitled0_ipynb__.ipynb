{
  "nbformat": 4,
  "nbformat_minor": 0,
  "metadata": {
    "colab": {
      "provenance": [],
      "collapsed_sections": []
    },
    "kernelspec": {
      "name": "python3",
      "display_name": "Python 3"
    },
    "language_info": {
      "name": "python"
    }
  },
  "cells": [
    {
      "cell_type": "markdown",
      "source": [
        "##**Veronika Chyzhykova**, MTS-22, VANIL\n"
      ],
      "metadata": {
        "id": "wN_z8w4EveMU"
      }
    },
    {
      "cell_type": "markdown",
      "source": [
        "## Q 2\n",
        "\n",
        "\n",
        "---\n",
        "\n",
        "\n",
        "\n",
        "**Convert Between °C and °F.** Convert temperatures from one system to another. текст жирним шрифтом\n",
        "- Create a print statement to convert 18.5° C to °F. \n",
        "- Create a print statement to convert -4° F to °C.\n"
      ],
      "metadata": {
        "id": "dvUs4n0RSCRO"
      }
    },
    {
      "cell_type": "code",
      "source": [
        "def convertinF(c):\n",
        "  return c*1.8 + 32\n",
        "print(f'{convertinF(18.5)} F ')\n",
        "\n",
        "def convertinC(f):\n",
        "  return (f-32)/1.8\n",
        "print(f'{convertinC(-4)} C')"
      ],
      "metadata": {
        "colab": {
          "base_uri": "https://localhost:8080/"
        },
        "id": "yFhBg0PUSSce",
        "outputId": "f60bf1f7-e676-40fb-d41b-730fc0db8b71"
      },
      "execution_count": null,
      "outputs": [
        {
          "output_type": "stream",
          "name": "stdout",
          "text": [
            "65.30000000000001 F \n",
            "-20.0 C\n"
          ]
        }
      ]
    },
    {
      "cell_type": "markdown",
      "source": [
        "# Q 9\n",
        "\n",
        "\n",
        "---\n",
        "\n",
        "\n",
        "\n",
        "Write a program that asks the user to enter an angle between -180° and 180°. Using an expression with the modulo operator, convert the angle to its equivalent between 0° and 360°.\n"
      ],
      "metadata": {
        "id": "TWqI42DhVU0P"
      }
    },
    {
      "cell_type": "code",
      "source": [
        "user = int(input('Enter an angle between -180° and 180°: '))\n",
        "def angle(user):\n",
        "  '''convert an angle(user) between -180° and 180° to its equivalent between 0° and 360°'''\n",
        "  if -180 <= user < 0:\n",
        "    return 360+user\n",
        "  elif 0 < user <= 180:\n",
        "    return user\n",
        "  else:\n",
        "    return user%360 #using modulo operator\n",
        "    return '(0 or 360)'\n",
        "\n",
        "print(angle(user))\n",
        "\n"
      ],
      "metadata": {
        "colab": {
          "base_uri": "https://localhost:8080/"
        },
        "id": "EELY89D0Ve1i",
        "outputId": "3319f8f7-d940-4030-99b4-e689b852e248"
      },
      "execution_count": null,
      "outputs": [
        {
          "output_type": "stream",
          "name": "stdout",
          "text": [
            "Enter an angle between -180° and 180°: -90\n",
            "270\n"
          ]
        }
      ]
    },
    {
      "cell_type": "markdown",
      "source": [
        "# Q 14\n",
        "\n",
        "\n",
        "---\n",
        "\n",
        "\n",
        "\n",
        "Write a program that lets the user play Rock-Paper-Scissors against the computer. There should be three rounds, and after those three rounds, your program should print out who won and lost or that there is a tie."
      ],
      "metadata": {
        "id": "4sfr7XbXYz5X"
      }
    },
    {
      "cell_type": "code",
      "source": [
        "import random\n",
        "def game(user):\n",
        "  '''user is your turn'''\n",
        "  l = [\"rock\", \"paper\", \"scissors\"]\n",
        "  user_score = 0\n",
        "  computer_score = 0\n",
        "  for i in range(3):\n",
        "    user = (input('rock, paper or scissors: '))\n",
        "    computer = random.choice(l)\n",
        "    if (user == 'rock' and computer == 'scissors')or(user == 'scissors' and computer == 'paper')or(user == 'paper' and computer == 'rock'):\n",
        "      #print('user won')\n",
        "      print(f'{user}->{computer}')\n",
        "      user_score +=1\n",
        "      print(user_score,computer_score)\n",
        "    elif (user == 'scissors' and computer == 'rock')or(user == 'paper' and computer == 'scissors')or(user == 'rock' and computer == 'paper'):\n",
        "      print(f'{user}<-{computer}')\n",
        "      #print('user lost')\n",
        "      computer_score +=1\n",
        "      print(user_score,computer_score)\n",
        "    else:\n",
        "      print(f'{user}=={computer}')\n",
        "      #print('that is a tie')\n",
        "      user_score +=1\n",
        "      computer_score +=1\n",
        "      print(user_score,computer_score)\n",
        "  print(f\"3rounds score:{user_score}:{computer_score}\")\n",
        "  if user_score > computer_score:\n",
        "    print('user won')\n",
        "  elif user_score < computer_score:\n",
        "    print('computer won')\n",
        "  else:\n",
        "    print('that is a tie')\n",
        "\n",
        "game(user)\n",
        "#help(game)\n",
        "     \n",
        "\n"
      ],
      "metadata": {
        "colab": {
          "base_uri": "https://localhost:8080/"
        },
        "id": "nbnO-N3DVXoc",
        "outputId": "fbb44025-d382-4a2e-f57f-c8bd845a0c1b"
      },
      "execution_count": null,
      "outputs": [
        {
          "output_type": "stream",
          "name": "stdout",
          "text": [
            "rock, paper or scissors:rock\n",
            "rock<-paper\n",
            "0 1\n",
            "rock, paper or scissors:paper\n",
            "paper<-scissors\n",
            "0 2\n",
            "rock, paper or scissors:paper\n",
            "paper<-scissors\n",
            "0 3\n",
            "3rounds score:0:3\n",
            "computer won\n"
          ]
        }
      ]
    },
    {
      "cell_type": "markdown",
      "source": [
        "# Q 3\n",
        "\n",
        "\n",
        "---\n",
        "\n",
        "\n",
        "Write a print statement to print the mixed fraction 3 5/8 as a floating point number and as an integer.\n"
      ],
      "metadata": {
        "id": "1G1PcpyjZUyB"
      }
    },
    {
      "cell_type": "code",
      "source": [
        "x = 5/8+3\n",
        "print('integer 3 5/8:',int(x))\n",
        "print('floating point number 3 5/8:',x)"
      ],
      "metadata": {
        "colab": {
          "base_uri": "https://localhost:8080/"
        },
        "id": "Mg_d6JIDZmdr",
        "outputId": "b6130cb3-8cf5-48dc-9adc-bfd17ee87f1b"
      },
      "execution_count": null,
      "outputs": [
        {
          "output_type": "stream",
          "name": "stdout",
          "text": [
            "integer 3 5/8: 3\n",
            "floating point number 3 5/8: 3.625\n"
          ]
        }
      ]
    },
    {
      "cell_type": "markdown",
      "source": [
        "\n",
        "# Q 21\n",
        "---\n",
        "Write a program that asks the user to enter a power. Then find the last two digits of 2 raised to that power.\n",
        "\n"
      ],
      "metadata": {
        "id": "m2rzRUa2cP5W"
      }
    },
    {
      "cell_type": "code",
      "source": [
        "x = int(input('enter a power: '))\n",
        "r = 2**x\n",
        "print(r)\n",
        "if len(str(r))>= 2:  \n",
        "  print(r%100)\n",
        "else:\n",
        "  print('0'+str(r))\n"
      ],
      "metadata": {
        "colab": {
          "base_uri": "https://localhost:8080/"
        },
        "id": "E8oZ2OCccPKP",
        "outputId": "14ae1693-677f-490b-e3cc-9129045b466e"
      },
      "execution_count": null,
      "outputs": [
        {
          "output_type": "stream",
          "name": "stdout",
          "text": [
            "enter a power: 0\n",
            "1\n",
            "01\n"
          ]
        }
      ]
    }
  ]
}